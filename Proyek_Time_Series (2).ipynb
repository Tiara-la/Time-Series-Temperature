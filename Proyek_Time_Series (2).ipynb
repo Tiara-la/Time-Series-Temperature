{
  "nbformat": 4,
  "nbformat_minor": 0,
  "metadata": {
    "colab": {
      "name": "Proyek Time Series.ipynb",
      "provenance": [],
      "collapsed_sections": []
    },
    "kernelspec": {
      "display_name": "Python 3",
      "name": "python3"
    },
    "language_info": {
      "name": "python"
    }
  },
  "cells": [
    {
      "cell_type": "markdown",
      "metadata": {
        "id": "MZQQWdRoOw_c"
      },
      "source": [
        "Nama : Tiara Lailatul Nikmah  \n",
        "Email : tiaralaila21@gmail.com  \n",
        "Username : Tiara Laila  \n",
        "No Telepon : 089635924667  \n",
        "Asal kota : Juwana, Pati  "
      ]
    },
    {
      "cell_type": "code",
      "metadata": {
        "id": "f-EhvCsa_iUm"
      },
      "source": [
        "# import library\n",
        "import numpy as np\n",
        "import pandas as pd\n",
        "from keras.layers import Dense, LSTM\n",
        "import matplotlib.pyplot as plt\n",
        "import tensorflow as tf"
      ],
      "execution_count": 1,
      "outputs": []
    },
    {
      "cell_type": "code",
      "metadata": {
        "id": "msuDdc9ePCc2",
        "colab": {
          "base_uri": "https://localhost:8080/",
          "height": 206
        },
        "outputId": "4d57f910-b92d-4b62-f19e-4b9acd0e3fdc"
      },
      "source": [
        "#  ubah dataset menjadi dataframe\n",
        "data = pd.read_csv('weather_data_kolkata_2015_2020.csv')\n",
        "data.head()"
      ],
      "execution_count": 2,
      "outputs": [
        {
          "output_type": "execute_result",
          "data": {
            "text/html": [
              "<div>\n",
              "<style scoped>\n",
              "    .dataframe tbody tr th:only-of-type {\n",
              "        vertical-align: middle;\n",
              "    }\n",
              "\n",
              "    .dataframe tbody tr th {\n",
              "        vertical-align: top;\n",
              "    }\n",
              "\n",
              "    .dataframe thead th {\n",
              "        text-align: right;\n",
              "    }\n",
              "</style>\n",
              "<table border=\"1\" class=\"dataframe\">\n",
              "  <thead>\n",
              "    <tr style=\"text-align: right;\">\n",
              "      <th></th>\n",
              "      <th>DATETIME</th>\n",
              "      <th>TEMPERATURE</th>\n",
              "      <th>HUMIDITY</th>\n",
              "    </tr>\n",
              "  </thead>\n",
              "  <tbody>\n",
              "    <tr>\n",
              "      <th>0</th>\n",
              "      <td>2015-01-01 00:00:00</td>\n",
              "      <td>19.0</td>\n",
              "      <td>75.0</td>\n",
              "    </tr>\n",
              "    <tr>\n",
              "      <th>1</th>\n",
              "      <td>2015-01-01 01:00:00</td>\n",
              "      <td>19.0</td>\n",
              "      <td>77.0</td>\n",
              "    </tr>\n",
              "    <tr>\n",
              "      <th>2</th>\n",
              "      <td>2015-01-01 02:00:00</td>\n",
              "      <td>19.0</td>\n",
              "      <td>78.0</td>\n",
              "    </tr>\n",
              "    <tr>\n",
              "      <th>3</th>\n",
              "      <td>2015-01-01 03:00:00</td>\n",
              "      <td>19.0</td>\n",
              "      <td>80.0</td>\n",
              "    </tr>\n",
              "    <tr>\n",
              "      <th>4</th>\n",
              "      <td>2015-01-01 04:00:00</td>\n",
              "      <td>19.0</td>\n",
              "      <td>81.0</td>\n",
              "    </tr>\n",
              "  </tbody>\n",
              "</table>\n",
              "</div>"
            ],
            "text/plain": [
              "              DATETIME  TEMPERATURE  HUMIDITY\n",
              "0  2015-01-01 00:00:00         19.0      75.0\n",
              "1  2015-01-01 01:00:00         19.0      77.0\n",
              "2  2015-01-01 02:00:00         19.0      78.0\n",
              "3  2015-01-01 03:00:00         19.0      80.0\n",
              "4  2015-01-01 04:00:00         19.0      81.0"
            ]
          },
          "metadata": {},
          "execution_count": 2
        }
      ]
    },
    {
      "cell_type": "code",
      "metadata": {
        "id": "VPSlIhEDEtL4",
        "colab": {
          "base_uri": "https://localhost:8080/",
          "height": 206
        },
        "outputId": "67c8e656-4bd1-4502-ea6d-7887a03ac676"
      },
      "source": [
        "data.tail()"
      ],
      "execution_count": 5,
      "outputs": [
        {
          "output_type": "execute_result",
          "data": {
            "text/html": [
              "<div>\n",
              "<style scoped>\n",
              "    .dataframe tbody tr th:only-of-type {\n",
              "        vertical-align: middle;\n",
              "    }\n",
              "\n",
              "    .dataframe tbody tr th {\n",
              "        vertical-align: top;\n",
              "    }\n",
              "\n",
              "    .dataframe thead th {\n",
              "        text-align: right;\n",
              "    }\n",
              "</style>\n",
              "<table border=\"1\" class=\"dataframe\">\n",
              "  <thead>\n",
              "    <tr style=\"text-align: right;\">\n",
              "      <th></th>\n",
              "      <th>DATETIME</th>\n",
              "      <th>TEMPERATURE</th>\n",
              "      <th>HUMIDITY</th>\n",
              "    </tr>\n",
              "  </thead>\n",
              "  <tbody>\n",
              "    <tr>\n",
              "      <th>52603</th>\n",
              "      <td>2020-12-31 19:00:00</td>\n",
              "      <td>25.0</td>\n",
              "      <td>36.0</td>\n",
              "    </tr>\n",
              "    <tr>\n",
              "      <th>52604</th>\n",
              "      <td>2020-12-31 20:00:00</td>\n",
              "      <td>24.0</td>\n",
              "      <td>37.0</td>\n",
              "    </tr>\n",
              "    <tr>\n",
              "      <th>52605</th>\n",
              "      <td>2020-12-31 21:00:00</td>\n",
              "      <td>23.0</td>\n",
              "      <td>38.0</td>\n",
              "    </tr>\n",
              "    <tr>\n",
              "      <th>52606</th>\n",
              "      <td>2020-12-31 22:00:00</td>\n",
              "      <td>22.0</td>\n",
              "      <td>39.0</td>\n",
              "    </tr>\n",
              "    <tr>\n",
              "      <th>52607</th>\n",
              "      <td>2020-12-31 23:00:00</td>\n",
              "      <td>21.0</td>\n",
              "      <td>40.0</td>\n",
              "    </tr>\n",
              "  </tbody>\n",
              "</table>\n",
              "</div>"
            ],
            "text/plain": [
              "                 DATETIME  TEMPERATURE  HUMIDITY\n",
              "52603 2020-12-31 19:00:00         25.0      36.0\n",
              "52604 2020-12-31 20:00:00         24.0      37.0\n",
              "52605 2020-12-31 21:00:00         23.0      38.0\n",
              "52606 2020-12-31 22:00:00         22.0      39.0\n",
              "52607 2020-12-31 23:00:00         21.0      40.0"
            ]
          },
          "metadata": {},
          "execution_count": 5
        }
      ]
    },
    {
      "cell_type": "code",
      "metadata": {
        "id": "qUU-KgnORUEr",
        "colab": {
          "base_uri": "https://localhost:8080/"
        },
        "outputId": "dd966c28-1eb0-4cea-f092-b7187020c30a"
      },
      "source": [
        "data.info()"
      ],
      "execution_count": 3,
      "outputs": [
        {
          "output_type": "stream",
          "name": "stdout",
          "text": [
            "<class 'pandas.core.frame.DataFrame'>\n",
            "RangeIndex: 52608 entries, 0 to 52607\n",
            "Data columns (total 3 columns):\n",
            " #   Column       Non-Null Count  Dtype  \n",
            "---  ------       --------------  -----  \n",
            " 0   DATETIME     52608 non-null  object \n",
            " 1   TEMPERATURE  52608 non-null  float64\n",
            " 2   HUMIDITY     52608 non-null  float64\n",
            "dtypes: float64(2), object(1)\n",
            "memory usage: 1.2+ MB\n"
          ]
        }
      ]
    },
    {
      "cell_type": "code",
      "metadata": {
        "id": "ZP-iW7npNSn8"
      },
      "source": [
        "data['DATETIME'] = pd.to_datetime(data['DATETIME'])"
      ],
      "execution_count": 4,
      "outputs": []
    },
    {
      "cell_type": "code",
      "metadata": {
        "id": "aXkzDn76Ncty",
        "colab": {
          "base_uri": "https://localhost:8080/"
        },
        "outputId": "62e6dfd0-6545-4f83-e142-e60c64205ba3"
      },
      "source": [
        "data.dtypes"
      ],
      "execution_count": 6,
      "outputs": [
        {
          "output_type": "execute_result",
          "data": {
            "text/plain": [
              "DATETIME       datetime64[ns]\n",
              "TEMPERATURE           float64\n",
              "HUMIDITY              float64\n",
              "dtype: object"
            ]
          },
          "metadata": {},
          "execution_count": 6
        }
      ]
    },
    {
      "cell_type": "code",
      "metadata": {
        "id": "DzQlBahRBalA",
        "colab": {
          "base_uri": "https://localhost:8080/"
        },
        "outputId": "16ff4ebf-54cb-4502-f4f0-4ffbad4da273"
      },
      "source": [
        "data['TEMPERATURE'].min()"
      ],
      "execution_count": 7,
      "outputs": [
        {
          "output_type": "execute_result",
          "data": {
            "text/plain": [
              "11.0"
            ]
          },
          "metadata": {},
          "execution_count": 7
        }
      ]
    },
    {
      "cell_type": "code",
      "metadata": {
        "id": "098aru0kBgEP",
        "colab": {
          "base_uri": "https://localhost:8080/"
        },
        "outputId": "bd4c634f-959c-4a97-bfc6-9dbde35961a1"
      },
      "source": [
        "data['TEMPERATURE'].max()"
      ],
      "execution_count": 8,
      "outputs": [
        {
          "output_type": "execute_result",
          "data": {
            "text/plain": [
              "45.0"
            ]
          },
          "metadata": {},
          "execution_count": 8
        }
      ]
    },
    {
      "cell_type": "code",
      "metadata": {
        "id": "OO5_NKnlDV9L"
      },
      "source": [
        "# Mengambil sampel 11000 record data saja\n",
        "data = data[:11000]"
      ],
      "execution_count": 9,
      "outputs": []
    },
    {
      "cell_type": "code",
      "metadata": {
        "id": "-wDk3Lj9-yh-",
        "colab": {
          "base_uri": "https://localhost:8080/"
        },
        "outputId": "97a1b364-00c8-481c-de40-96f89b9bb42a"
      },
      "source": [
        "# mengecek apakah ada nilai yang hilang\n",
        "data.isnull().sum()"
      ],
      "execution_count": 10,
      "outputs": [
        {
          "output_type": "execute_result",
          "data": {
            "text/plain": [
              "DATETIME       0\n",
              "TEMPERATURE    0\n",
              "HUMIDITY       0\n",
              "dtype: int64"
            ]
          },
          "metadata": {},
          "execution_count": 10
        }
      ]
    },
    {
      "cell_type": "code",
      "metadata": {
        "id": "9REyuUB0-3uQ",
        "colab": {
          "base_uri": "https://localhost:8080/",
          "height": 336
        },
        "outputId": "9573e260-9261-468e-9489-b086318a4663"
      },
      "source": [
        "# membuat plot dari data\n",
        "dates = data['DATETIME'].values\n",
        "temp  = data['TEMPERATURE'].values\n",
        " \n",
        " \n",
        "plt.figure(figsize=(15,5))\n",
        "plt.plot(dates, temp)\n",
        "plt.title('Temperature',\n",
        "          fontsize=20);"
      ],
      "execution_count": 11,
      "outputs": [
        {
          "output_type": "display_data",
          "data": {
            "image/png": "[encoded data removed]",
            "text/plain": [
              "<Figure size 1080x360 with 1 Axes>"
            ]
          },
          "metadata": {
            "needs_background": "light"
          }
        }
      ]
    },
    {
      "cell_type": "code",
      "metadata": {
        "colab": {
          "base_uri": "https://localhost:8080/"
        },
        "id": "qlH6Ib1wHyzu",
        "outputId": "43ca9087-355e-464f-876a-7497c7711ac3"
      },
      "source": [
        "# mae sebelum minmaxscaler\n",
        "maxmae = (data['TEMPERATURE'].max() - data['TEMPERATURE'].min()) * 0.1\n",
        "maxmae"
      ],
      "execution_count": 12,
      "outputs": [
        {
          "output_type": "execute_result",
          "data": {
            "text/plain": [
              "2.9000000000000004"
            ]
          },
          "metadata": {},
          "execution_count": 12
        }
      ]
    },
    {
      "cell_type": "code",
      "metadata": {
        "id": "XRGXL2xhuTQL"
      },
      "source": [
        "# normalisasi dataset\n",
        "from sklearn.preprocessing import StandardScaler\n",
        "scaler = StandardScaler()\n",
        "scaler = scaler.fit(data[['TEMPERATURE']])\n",
        "data_scaled = scaler.transform(data[['TEMPERATURE']])"
      ],
      "execution_count": 13,
      "outputs": []
    },
    {
      "cell_type": "code",
      "metadata": {
        "id": "U1WV6shOq89i"
      },
      "source": [
        "# minmaxscaler\n",
        "from sklearn.preprocessing import MinMaxScaler\n",
        "minmaxscaler = MinMaxScaler(feature_range = (0,1))\n",
        "scaled = minmaxscaler.fit_transform(data[['TEMPERATURE']])\n",
        "data[['TEMPERATURE']] = scaled"
      ],
      "execution_count": 14,
      "outputs": []
    },
    {
      "cell_type": "code",
      "metadata": {
        "id": "y2mGQKIbB8CD",
        "colab": {
          "base_uri": "https://localhost:8080/"
        },
        "outputId": "5e3a0447-d85b-457c-d326-e4696583835a"
      },
      "source": [
        "# mae sesudah minmaxscaler\n",
        "maxmae = (data['TEMPERATURE'].max() - data['TEMPERATURE'].min()) * 0.1\n",
        "maxmae"
      ],
      "execution_count": 15,
      "outputs": [
        {
          "output_type": "execute_result",
          "data": {
            "text/plain": [
              "0.1"
            ]
          },
          "metadata": {},
          "execution_count": 15
        }
      ]
    },
    {
      "cell_type": "code",
      "metadata": {
        "id": "tXxJAIN91OUF",
        "colab": {
          "base_uri": "https://localhost:8080/",
          "height": 206
        },
        "outputId": "843333ed-6943-4b9a-c85c-a2b645ee2afc"
      },
      "source": [
        "data.head()"
      ],
      "execution_count": 16,
      "outputs": [
        {
          "output_type": "execute_result",
          "data": {
            "text/html": [
              "<div>\n",
              "<style scoped>\n",
              "    .dataframe tbody tr th:only-of-type {\n",
              "        vertical-align: middle;\n",
              "    }\n",
              "\n",
              "    .dataframe tbody tr th {\n",
              "        vertical-align: top;\n",
              "    }\n",
              "\n",
              "    .dataframe thead th {\n",
              "        text-align: right;\n",
              "    }\n",
              "</style>\n",
              "<table border=\"1\" class=\"dataframe\">\n",
              "  <thead>\n",
              "    <tr style=\"text-align: right;\">\n",
              "      <th></th>\n",
              "      <th>DATETIME</th>\n",
              "      <th>TEMPERATURE</th>\n",
              "      <th>HUMIDITY</th>\n",
              "    </tr>\n",
              "  </thead>\n",
              "  <tbody>\n",
              "    <tr>\n",
              "      <th>0</th>\n",
              "      <td>2015-01-01 00:00:00</td>\n",
              "      <td>0.206897</td>\n",
              "      <td>75.0</td>\n",
              "    </tr>\n",
              "    <tr>\n",
              "      <th>1</th>\n",
              "      <td>2015-01-01 01:00:00</td>\n",
              "      <td>0.206897</td>\n",
              "      <td>77.0</td>\n",
              "    </tr>\n",
              "    <tr>\n",
              "      <th>2</th>\n",
              "      <td>2015-01-01 02:00:00</td>\n",
              "      <td>0.206897</td>\n",
              "      <td>78.0</td>\n",
              "    </tr>\n",
              "    <tr>\n",
              "      <th>3</th>\n",
              "      <td>2015-01-01 03:00:00</td>\n",
              "      <td>0.206897</td>\n",
              "      <td>80.0</td>\n",
              "    </tr>\n",
              "    <tr>\n",
              "      <th>4</th>\n",
              "      <td>2015-01-01 04:00:00</td>\n",
              "      <td>0.206897</td>\n",
              "      <td>81.0</td>\n",
              "    </tr>\n",
              "  </tbody>\n",
              "</table>\n",
              "</div>"
            ],
            "text/plain": [
              "             DATETIME  TEMPERATURE  HUMIDITY\n",
              "0 2015-01-01 00:00:00     0.206897      75.0\n",
              "1 2015-01-01 01:00:00     0.206897      77.0\n",
              "2 2015-01-01 02:00:00     0.206897      78.0\n",
              "3 2015-01-01 03:00:00     0.206897      80.0\n",
              "4 2015-01-01 04:00:00     0.206897      81.0"
            ]
          },
          "metadata": {},
          "execution_count": 16
        }
      ]
    },
    {
      "cell_type": "code",
      "metadata": {
        "id": "sIIAEItVxqJ4",
        "colab": {
          "base_uri": "https://localhost:8080/",
          "height": 206
        },
        "outputId": "1600c6b3-0468-4a4f-ff6c-cdbf3f6d5c16"
      },
      "source": [
        "data.tail()"
      ],
      "execution_count": 18,
      "outputs": [
        {
          "output_type": "execute_result",
          "data": {
            "text/html": [
              "<div>\n",
              "<style scoped>\n",
              "    .dataframe tbody tr th:only-of-type {\n",
              "        vertical-align: middle;\n",
              "    }\n",
              "\n",
              "    .dataframe tbody tr th {\n",
              "        vertical-align: top;\n",
              "    }\n",
              "\n",
              "    .dataframe thead th {\n",
              "        text-align: right;\n",
              "    }\n",
              "</style>\n",
              "<table border=\"1\" class=\"dataframe\">\n",
              "  <thead>\n",
              "    <tr style=\"text-align: right;\">\n",
              "      <th></th>\n",
              "      <th>DATETIME</th>\n",
              "      <th>TEMPERATURE</th>\n",
              "      <th>HUMIDITY</th>\n",
              "    </tr>\n",
              "  </thead>\n",
              "  <tbody>\n",
              "    <tr>\n",
              "      <th>10995</th>\n",
              "      <td>2016-04-03 03:00:00</td>\n",
              "      <td>0.448276</td>\n",
              "      <td>89.0</td>\n",
              "    </tr>\n",
              "    <tr>\n",
              "      <th>10996</th>\n",
              "      <td>2016-04-03 04:00:00</td>\n",
              "      <td>0.482759</td>\n",
              "      <td>84.0</td>\n",
              "    </tr>\n",
              "    <tr>\n",
              "      <th>10997</th>\n",
              "      <td>2016-04-03 05:00:00</td>\n",
              "      <td>0.517241</td>\n",
              "      <td>79.0</td>\n",
              "    </tr>\n",
              "    <tr>\n",
              "      <th>10998</th>\n",
              "      <td>2016-04-03 06:00:00</td>\n",
              "      <td>0.551724</td>\n",
              "      <td>75.0</td>\n",
              "    </tr>\n",
              "    <tr>\n",
              "      <th>10999</th>\n",
              "      <td>2016-04-03 07:00:00</td>\n",
              "      <td>0.586207</td>\n",
              "      <td>71.0</td>\n",
              "    </tr>\n",
              "  </tbody>\n",
              "</table>\n",
              "</div>"
            ],
            "text/plain": [
              "                 DATETIME  TEMPERATURE  HUMIDITY\n",
              "10995 2016-04-03 03:00:00     0.448276      89.0\n",
              "10996 2016-04-03 04:00:00     0.482759      84.0\n",
              "10997 2016-04-03 05:00:00     0.517241      79.0\n",
              "10998 2016-04-03 06:00:00     0.551724      75.0\n",
              "10999 2016-04-03 07:00:00     0.586207      71.0"
            ]
          },
          "metadata": {},
          "execution_count": 18
        }
      ]
    },
    {
      "cell_type": "code",
      "metadata": {
        "id": "cvMctPRcYr76",
        "colab": {
          "base_uri": "https://localhost:8080/"
        },
        "outputId": "0378b36c-e30c-425a-85a6-bd6b7cb961aa"
      },
      "source": [
        "# bagi data untuk training dan data untuk testing\n",
        "# validation set sebesar 20% dari total dataset\n",
        "from sklearn.model_selection import train_test_split\n",
        "temp_latih, temp_test, dates_latih, dates_test = train_test_split(temp, dates, test_size=0.2, random_state = 0 , shuffle=False)\n",
        "print(len(temp_latih), len(temp_test))"
      ],
      "execution_count": 19,
      "outputs": [
        {
          "output_type": "stream",
          "name": "stdout",
          "text": [
            "8800 2200\n"
          ]
        }
      ]
    },
    {
      "cell_type": "code",
      "metadata": {
        "id": "bpsx0zQsI1Wi"
      },
      "source": [
        "# merubah data menjadi format yang dapat diterima oleh model\n",
        "# sebuah series/atribut yang telah di konversi menjadi tipe numpy\n",
        "# mengembalikan label dan atribut dari dataset dalam bentuk batch\n",
        "def windowed_dataset(series, window_size, batch_size, shuffle_buffer):\n",
        "    series = tf.expand_dims(series, axis=-1)\n",
        "    ds = tf.data.Dataset.from_tensor_slices(series)\n",
        "    ds = ds.window(window_size + 1, shift=1, drop_remainder=True)\n",
        "    ds = ds.flat_map(lambda w: w.batch(window_size + 1))\n",
        "    ds = ds.shuffle(shuffle_buffer)\n",
        "    ds = ds.map(lambda w: (w[:-1], w[-1:]))\n",
        "    return ds.batch(batch_size).prefetch(1)"
      ],
      "execution_count": 20,
      "outputs": []
    },
    {
      "cell_type": "code",
      "metadata": {
        "id": "_uWHSCaoJP6F"
      },
      "source": [
        "# membuat arsitektur model\n",
        "# menggunakan 2 buah layer LSTM yang memiliki parameter return_sequences yang bernilai True\n",
        "train_set = windowed_dataset(temp_latih, window_size=256, batch_size=1024, shuffle_buffer=2000)\n",
        "validation_set = windowed_dataset(temp_test, window_size=256, batch_size=1024, shuffle_buffer=2000)\n",
        "model = tf.keras.models.Sequential([    \n",
        "  tf.keras.layers.Bidirectional(tf.keras.layers.LSTM(128, return_sequences=True)),    \n",
        "  tf.keras.layers.MaxPooling1D(),      \n",
        "  tf.keras.layers.Dropout(0.2),                \n",
        "  tf.keras.layers.LSTM(64, return_sequences=True),\n",
        "  tf.keras.layers.LSTM(64), \n",
        "  tf.keras.layers.Flatten(),\n",
        "  tf.keras.layers.Dense(30, activation=\"relu\"),\n",
        "  tf.keras.layers.Dense(20, activation=\"relu\"),\n",
        "  tf.keras.layers.Dense(10, activation=\"relu\"),\n",
        "  tf.keras.layers.Dense(1),\n",
        "  tf.keras.layers.Lambda(lambda x: x * 100)\n",
        "])"
      ],
      "execution_count": 21,
      "outputs": []
    },
    {
      "cell_type": "code",
      "metadata": {
        "id": "adu6ZS7cLLnZ"
      },
      "source": [
        "# fungsi callback untuk menghentikan epoch apabila mae sudah mencapai kurang dari 10%\n",
        "class toCallback(tf.keras.callbacks.Callback): \n",
        "  def on_epoch_end(self, epoch, logs={}):\n",
        "    if(logs.get('mae')<0.1):\n",
        "      print(\"Proses Training Berhenti, Tingkat Mae Sudah Kurang Dari 10%\")\n",
        "      self.model.stop_training = True\n",
        "\n",
        "callbacks= toCallback()"
      ],
      "execution_count": 22,
      "outputs": []
    },
    {
      "cell_type": "code",
      "metadata": {
        "id": "dSNqA1y0J5j3",
        "colab": {
          "base_uri": "https://localhost:8080/"
        },
        "outputId": "90216702-092c-4c8e-e07e-4e64b23f468e"
      },
      "source": [
        "lr_schedule = tf.keras.callbacks.LearningRateScheduler(lambda epoch: 1e-8 * 10**(epoch / 20))\n",
        "#  pada optimizer menggunakan parameter learning rate dan momentum\n",
        "optimizer = tf.keras.optimizers.SGD(lr=1.0000e-04, momentum=0.9)\n",
        "#  loss function Huber yang umum digunakan pada kasus time series\n",
        "#  metrik yang digunakan untuk mengevaluasi model adalah MAE\n",
        "model.compile(loss=tf.keras.losses.Huber(),\n",
        "              optimizer=optimizer,\n",
        "              metrics=[\"mae\"])\n",
        "tf.keras.backend.set_floatx('float64')\n",
        "latih = model.fit(train_set, batch_size=1024, epochs=400, validation_data=validation_set, verbose=2, callbacks=[callbacks])"
      ],
      "execution_count": 23,
      "outputs": [
        {
          "output_type": "stream",
          "name": "stderr",
          "text": [
            "/usr/local/lib/python3.7/dist-packages/keras/optimizer_v2/optimizer_v2.py:356: UserWarning: The `lr` argument is deprecated, use `learning_rate` instead.\n",
            "  \"The `lr` argument is deprecated, use `learning_rate` instead.\")\n"
          ]
        },
        {
          "output_type": "stream",
          "name": "stdout",
          "text": [
            "Epoch 1/400\n",
            "9/9 - 106s - loss: 0.3354 - mae: 0.7513 - val_loss: 0.2746 - val_mae: 0.7087\n",
            "Epoch 2/400\n",
            "9/9 - 91s - loss: 0.1165 - mae: 0.4228 - val_loss: 0.0572 - val_mae: 0.3059\n",
            "Epoch 3/400\n",
            "9/9 - 93s - loss: 0.0434 - mae: 0.2574 - val_loss: 0.0128 - val_mae: 0.1368\n",
            "Epoch 4/400\n",
            "9/9 - 92s - loss: 0.0195 - mae: 0.1619 - val_loss: 0.0209 - val_mae: 0.1752\n",
            "Epoch 5/400\n",
            "9/9 - 93s - loss: 0.0132 - mae: 0.1313 - val_loss: 0.0117 - val_mae: 0.1323\n",
            "Epoch 6/400\n",
            "9/9 - 94s - loss: 0.0099 - mae: 0.1137 - val_loss: 0.0075 - val_mae: 0.1051\n",
            "Epoch 7/400\n",
            "9/9 - 94s - loss: 0.0092 - mae: 0.1097 - val_loss: 0.0090 - val_mae: 0.1061\n",
            "Epoch 8/400\n",
            "9/9 - 93s - loss: 0.0089 - mae: 0.1075 - val_loss: 0.0083 - val_mae: 0.1036\n",
            "Epoch 9/400\n",
            "9/9 - 93s - loss: 0.0082 - mae: 0.1038 - val_loss: 0.0078 - val_mae: 0.1026\n",
            "Epoch 10/400\n",
            "9/9 - 92s - loss: 0.0084 - mae: 0.1054 - val_loss: 0.0075 - val_mae: 0.1061\n",
            "Epoch 11/400\n",
            "9/9 - 92s - loss: 0.0082 - mae: 0.1048 - val_loss: 0.0080 - val_mae: 0.1099\n",
            "Epoch 12/400\n",
            "9/9 - 92s - loss: 0.0081 - mae: 0.1037 - val_loss: 0.0079 - val_mae: 0.1094\n",
            "Epoch 13/400\n",
            "9/9 - 93s - loss: 0.0078 - mae: 0.1020 - val_loss: 0.0078 - val_mae: 0.1089\n",
            "Epoch 14/400\n",
            "9/9 - 94s - loss: 0.0078 - mae: 0.1021 - val_loss: 0.0078 - val_mae: 0.1087\n",
            "Epoch 15/400\n",
            "9/9 - 92s - loss: 0.0078 - mae: 0.1020 - val_loss: 0.0075 - val_mae: 0.1052\n",
            "Epoch 16/400\n",
            "9/9 - 95s - loss: 0.0077 - mae: 0.1015 - val_loss: 0.0078 - val_mae: 0.1088\n",
            "Epoch 17/400\n",
            "9/9 - 96s - loss: 0.0077 - mae: 0.1016 - val_loss: 0.0074 - val_mae: 0.1043\n",
            "Epoch 18/400\n",
            "9/9 - 95s - loss: 0.0078 - mae: 0.1020 - val_loss: 0.0075 - val_mae: 0.1062\n",
            "Epoch 19/400\n",
            "9/9 - 93s - loss: 0.0076 - mae: 0.1011 - val_loss: 0.0075 - val_mae: 0.1027\n",
            "Epoch 20/400\n",
            "9/9 - 92s - loss: 0.0076 - mae: 0.1007 - val_loss: 0.0074 - val_mae: 0.1028\n",
            "Epoch 21/400\n",
            "9/9 - 100s - loss: 0.0078 - mae: 0.1020 - val_loss: 0.0074 - val_mae: 0.1031\n",
            "Epoch 22/400\n",
            "9/9 - 92s - loss: 0.0076 - mae: 0.1009 - val_loss: 0.0075 - val_mae: 0.1023\n",
            "Epoch 23/400\n",
            "9/9 - 93s - loss: 0.0077 - mae: 0.1013 - val_loss: 0.0073 - val_mae: 0.1025\n",
            "Epoch 24/400\n",
            "9/9 - 94s - loss: 0.0078 - mae: 0.1021 - val_loss: 0.0074 - val_mae: 0.1050\n",
            "Epoch 25/400\n",
            "9/9 - 94s - loss: 0.0078 - mae: 0.1023 - val_loss: 0.0073 - val_mae: 0.1037\n",
            "Epoch 26/400\n",
            "9/9 - 93s - loss: 0.0076 - mae: 0.1006 - val_loss: 0.0073 - val_mae: 0.1041\n",
            "Epoch 27/400\n",
            "9/9 - 92s - loss: 0.0078 - mae: 0.1019 - val_loss: 0.0076 - val_mae: 0.1073\n",
            "Epoch 28/400\n",
            "9/9 - 92s - loss: 0.0076 - mae: 0.1012 - val_loss: 0.0074 - val_mae: 0.1046\n",
            "Epoch 29/400\n",
            "9/9 - 92s - loss: 0.0076 - mae: 0.1008 - val_loss: 0.0076 - val_mae: 0.1069\n",
            "Epoch 30/400\n",
            "9/9 - 92s - loss: 0.0074 - mae: 0.0996 - val_loss: 0.0073 - val_mae: 0.1040\n",
            "Proses Training Berhenti, Tingkat Mae Sudah Kurang Dari 10%\n"
          ]
        }
      ]
    },
    {
      "cell_type": "code",
      "metadata": {
        "id": "cOkjUJt04lQ0",
        "colab": {
          "base_uri": "https://localhost:8080/",
          "height": 608
        },
        "outputId": "38abe040-48f9-45bb-e489-c1aa662a4566"
      },
      "source": [
        "# membuat grafik akurasi data training dan validasi\n",
        "import matplotlib.pyplot as plt\n",
        "\n",
        "mae = latih.history['mae']\n",
        "val_mae = latih.history['val_mae']\n",
        "loss = latih.history['loss']\n",
        "val_loss = latih.history['val_loss']\n",
        "\n",
        "epoch_range = range(len(mae))\n",
        "\n",
        "plt.plot(epoch_range, mae, label='Mae')\n",
        "plt.plot(epoch_range, val_mae, label='Validation Mae')\n",
        "plt.title('Grafik MAE')\n",
        "plt.ylabel('accuracy')\n",
        "plt.xlabel('epoch')\n",
        "plt.legend(loc=0)\n",
        "plt.figure()\n",
        "plt.show()\n",
        "\n",
        "plt.plot(epoch_range, loss, label='Training loss')\n",
        "plt.plot(epoch_range, val_loss, label='Validation loss')\n",
        "plt.title('Grafik loss')\n",
        "plt.ylabel('loss')\n",
        "plt.xlabel('epoch')\n",
        "plt.legend(loc=0)\n",
        "plt.figure()\n",
        "plt.show()"
      ],
      "execution_count": 24,
      "outputs": [
        {
          "output_type": "display_data",
          "data": {
            "image/png": "[encoded data removed]",
            "text/plain": [
              "<Figure size 432x288 with 1 Axes>"
            ]
          },
          "metadata": {
            "needs_background": "light"
          }
        },
        {
          "output_type": "display_data",
          "data": {
            "text/plain": [
              "<Figure size 432x288 with 0 Axes>"
            ]
          },
          "metadata": {}
        },
        {
          "output_type": "display_data",
          "data": {
            "image/png": "[encoded data removed]",
            "text/plain": [
              "<Figure size 432x288 with 1 Axes>"
            ]
          },
          "metadata": {
            "needs_background": "light"
          }
        },
        {
          "output_type": "display_data",
          "data": {
            "text/plain": [
              "<Figure size 432x288 with 0 Axes>"
            ]
          },
          "metadata": {}
        }
      ]
    }
  ]
}